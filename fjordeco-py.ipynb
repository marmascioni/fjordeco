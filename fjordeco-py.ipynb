{
 "cells": [
  {
   "cell_type": "markdown",
   "metadata": {},
   "source": [
    "A Simple Fjord Ecosystem Model\n",
    "==============================\n",
    "\n",
    "Following Franks, et al. (1986, Marine Biology, v91, 121–129), we wish to build a nitrate (N), phytoplankton (P), and Krill (Z) model (NPZ) that also adds some basic benthic cycling: i) dead, sinking phytoplankton does not primarily remineralize in the water column and is exported to the benthos; and, ii) nutrients are exported from the Benthos. The system of equations for the system are given by:\n",
    "\n",
    "\\begin{equation}\n",
    "\\begin{split}\n",
    "\\frac{dN}{dt} & = -\\frac{V_m N}{k_s+N}P+mP+gZ+\\gamma R_m\\Lambda P(1-e^{-\\Lambda P})Z+\\beta B \\hspace{2in}(1)\\\\\n",
    "\\frac{dP}{dt} & = \\frac{V_m N}{k_s+N}P-mP-R_m\\Lambda P(1-e^{-\\Lambda P})Z-\\alpha P \\hspace{2.75in}(2)\\\\\n",
    "\\frac{dZ}{dt} & = (1-\\gamma)R_m\\Lambda P(1-e^{-\\Lambda P})Z - gZ \\hspace{3.5in}(3) \\\\\n",
    "\\frac{dB}{dt} & = \\alpha P - \\beta B \\hspace{5in}(4)\n",
    "\\end{split}\n",
    "\\end{equation}\n",
    "\n",
    "The parameters are given in the table below, and for the first portion of these experiments, we will use the Ivlev formulation ($\\alpha=1$). Note that these equations solve for concentrations; hence, N, P, and Z are in units of $\\mu$gN L$^{-1}$.\n",
    "\n",
    "\n",
    "\n",
    "| Parameter | Description                                    | Value        |\n",
    "|-----------|------------------------------------------------|--------------|\n",
    "|  $V_m$    | Maximum $P$ growth rate                        | 2 day$^{-1}$ |\n",
    "|  $k_s$    | Half-Saturation constant for $N$               | 1 $\\mu$gN L$^{-1}$ |\n",
    "|  $m$      | $P$ mortality rate remineralized in water water| 0.1 day$^{-1}$ |\n",
    "|  $\\alpha$ | $P$ mortality rate remineralized in benthos    | 0.025 day$^{-1}$ |\n",
    "|  $\\beta$  | resuspension rate of $N$ from the benthos      | 0.01 day$^{-1}$ |\n",
    "|  $\\gamma$ | Unassimilated grazing fraction from (\"messy eating\" percentage) | 0.3 |\n",
    "|  $R_m$    | Maximum $Z$ grazing rate                       | 1.5 day$^{-1}$ |\n",
    "|  $\\Lambda$| Ivlev constant                                 | 1 $\\mu$gN L$^{-1}$ |\n",
    "|  $g$      | $Z$ mortality rate                             | 0.2 day$^{-1}$ |\n",
    "\n"
   ]
  },
  {
   "cell_type": "markdown",
   "metadata": {},
   "source": [
    "Modules\n",
    "------"
   ]
  },
  {
   "cell_type": "code",
   "execution_count": null,
   "metadata": {},
   "outputs": [],
   "source": [
    "%matplotlib inline\n",
    "import numpy as np\n",
    "import matplotlib.pyplot as plt\n",
    "import netCDF4 as nc"
   ]
  },
  {
   "cell_type": "markdown",
   "metadata": {},
   "source": [
    "##  Parameters\n",
    "\n",
    "1. tstart: time to start model integration [days]\n",
    "1. tend: time to end model integration [days]\n",
    "1. min_N: minimum level of Nutrients [$\\mu$gN/L]\n",
    "1. min_P: minimum level of PhytoPlankton [$\\mu$gN/L]\n",
    "1. min_Z: minimum level of Krill [$\\mu$gN/L]\n",
    "1. min_B: minimum level of Benthos [$\\mu$gN/L]"
   ]
  },
  {
   "cell_type": "code",
   "execution_count": null,
   "metadata": {},
   "outputs": [],
   "source": [
    "tstart = 0\n",
    "tend   = 50\n",
    "min_N  = 0.00001\n",
    "min_P  = 0.00001\n",
    "min_Z  = 0.00001\n",
    "min_B  = 0.00001"
   ]
  },
  {
   "cell_type": "markdown",
   "metadata": {},
   "source": [
    "Model Code\n",
    "----------\n",
    "\n",
    "Implement the NPZ-class model\n",
    "    \n",
    "*Input*\n",
    "\n",
    "| Name | Description | Units |\n",
    "|-----------|-------------|-------|\n",
    "| `N0` | Initial Nutrients | $\\mu$gN L$^{-1}$\n",
    "| `P0` | Initial Phytoplankton | $\\mu$gN L$^{-1}$\n",
    "| `Z0` | Initial Krill | $\\mu$gN L$^{-1}$\n",
    "| `B0` | Initial Benthos | $\\mu$gN L$^{-1}$\n",
    "| `Vm` | Maximum P growth rate | days$^{-1}$\n",
    "| `ks` | Half-saturation constant | $\\mu$gN L$^{-1}$\n",
    "| `m`  | Mortality-rate for phytoplankton | days$^{-1}$\n",
    "| `alpha` | export to benthos rate | days$^{-1}$\n",
    "| `beta` | import from benthos rate | days$^{-1}$\n",
    "| `gamma` | Messy Eating  | fraction\n",
    "| `Rm` | Maximum Z grazing | days$^-1$\n",
    "| `ivlev` | Ivlev constant  | $\\mu$gN L$^{-1}$\n",
    "| `g` | Z mortality rate | days$^{-1}$\n",
    "\n",
    "\n",
    "*Output*\n",
    "\n",
    "| Name | Description | Units |\n",
    "|-----------|-------------|-------|\n",
    "| `times` | array of times, $t$ | days\n",
    "| `N` | array of nutrients, $N(t)$| $\\mu$gN L$^{-1}$\n",
    "| `P` | array of Phytoplankton, $P(t)$ | $\\mu$gN L$^{-1}$\n",
    "| `Z` | array of Zooplankton, $Z(t)$ | $\\mu$gN L$^{-1}$\n",
    "| `B` | array of Benthos, $B(t)$ | $\\mu$gN L$^{-1}$"
   ]
  },
  {
   "cell_type": "code",
   "execution_count": null,
   "metadata": {},
   "outputs": [],
   "source": [
    "def npz(N0=1.6, P0=0.3, Z0=0.1, B0=0.1,                     # Initial Conditions\n",
    "        Vm=2.0, ks=1.0, m=0.1, alpha=0.025,                 # Phytoplankton Parameters\n",
    "        beta=0.01,                                          # Benthos Parameters\n",
    "        gamma=0.3, Rm=1.5, ivlev=1.0, g=0.2):               # Krill Parameters\n",
    "\n",
    "    # Create the variables to store our results\n",
    "    dt = 1e-3\n",
    "    times = np.arange(tstart, tend + dt, dt)  # Create the array of model times\n",
    "    Nt = len(times)                         # Number of time-steps\n",
    "    N = np.zeros(Nt)    # Create the array for our nitrate with time\n",
    "    P = np.zeros(Nt)    # Create the array for our phytoplankton with time\n",
    "    Z = np.zeros(Nt)    # Create the array for our krill with time\n",
    "    B = np.zeros(Nt)    # Create the array for our benthos with time\n",
    "\n",
    "    # Set our initial conditions\n",
    "    N[0] = N0\n",
    "    P[0] = P0\n",
    "    Z[0] = Z0\n",
    "    B[0] = B0\n",
    "\n",
    "    # Loop over all of our times and integrate the model\n",
    "    for n in range(Nt - 1):\n",
    "        uptake = Vm * P[n] * N[n] / (ks + N[n])\n",
    "        pmortality = m * P[n]\n",
    "        graze = ivlev * P[n] * Rm * (1.0 - np.exp(-ivlev * P[n])) * Z[n]\n",
    "        zmortality = g * Z[n]\n",
    "        binput = alpha * P[n]\n",
    "        boutput = beta * B[n]\n",
    "\n",
    "        # Time-step the equations\n",
    "        N[n + 1] = N[n] + dt * (-uptake + pmortality +\n",
    "                                zmortality + gamma * graze + boutput)\n",
    "        P[n + 1] = P[n] + dt * (uptake - pmortality - graze - binput)\n",
    "        Z[n + 1] = Z[n] + dt * ((1 - gamma) * graze - zmortality)\n",
    "        B[n + 1] = B[n] + dt * (binput - boutput)\n",
    "\n",
    "        # Apply the boundary checks\n",
    "        N[n + 1] = np.maximum(N[n + 1], min_N)\n",
    "        P[n + 1] = np.maximum(P[n + 1], min_P)\n",
    "        Z[n + 1] = np.maximum(Z[n + 1], min_Z)\n",
    "        B[n + 1] = np.maximum(B[n + 1], min_B)\n",
    "\n",
    "    return times, N, P, Z, B\n"
   ]
  },
  {
   "cell_type": "markdown",
   "metadata": {},
   "source": [
    "Base Run\n",
    "---------\n",
    "\n",
    "Let us begin by running our model with the base configuration to examine how it behaves."
   ]
  },
  {
   "cell_type": "code",
   "execution_count": null,
   "metadata": {},
   "outputs": [],
   "source": [
    "times,N,P,Z,B=npz()\n",
    "\n",
    "fig = plt.figure(figsize=(12,8))\n",
    "ax = [0, 0, 0]\n",
    "ax[0] = plt.subplot2grid((2,2), (0,0), colspan=2)\n",
    "ax[1] = plt.subplot2grid((2,2), (1,0))\n",
    "ax[2] = plt.subplot2grid((2,2), (1,1))\n",
    "\n",
    "ax[0].plot(times,N,'g',times,P,'b',times,Z,'r',times,B,'k')\n",
    "ax[0].set_xlabel(\"time [days]\")\n",
    "ax[0].set_ylabel(\"$\\mu$ g N L$^{-1}$\")\n",
    "ax[0].legend([\"N\",\"P\",\"Z\",\"B\"])\n",
    "\n",
    "bx = ax[1].twinx()\n",
    "ax[1].plot(P,Z)\n",
    "bx.plot(P,B,'k')\n",
    "ax[1].set_xlabel(\"P [$\\mu$ g N L$^{-1}$]\")\n",
    "ax[1].set_ylabel(\"Z [$\\mu$ g N L$^{-1}$]\")\n",
    "\n",
    "bx = ax[2].twinx()\n",
    "ax[2].plot(N,P)\n",
    "bx.plot(N,B,'k')\n",
    "ax[2].set_xlabel(\"N [$\\mu$ g N L$^{-1}$]\")\n",
    "ax[2].set_ylabel(\"P [$\\mu$ g N L$^{-1}$]\")\n",
    "bx.set_ylabel(\"B [$\\mu$ g N L$^{-1}$]\")"
   ]
  },
  {
   "cell_type": "markdown",
   "metadata": {},
   "source": [
    "Case Studies\n",
    "-------------\n",
    "\n",
    "Now, conduct a number of case studies by calling the model, but changing various parameters to examine the impact they have upon the system. For instance, the rates at which nutrients are exchanged with the benthos may have a profound effect on the bloom and the subsequent fixed-points. What about the impact of \"messy-eating\", initialization, or uptake rates?"
   ]
  }
 ],
 "metadata": {
  "anaconda-cloud": {},
  "kernelspec": {
   "display_name": "Python 3",
   "language": "python",
   "name": "python3"
  },
  "language_info": {
   "codemirror_mode": {
    "name": "ipython",
    "version": 3
   },
   "file_extension": ".py",
   "mimetype": "text/x-python",
   "name": "python",
   "nbconvert_exporter": "python",
   "pygments_lexer": "ipython3",
   "version": "3.6.5"
  }
 },
 "nbformat": 4,
 "nbformat_minor": 2
}
