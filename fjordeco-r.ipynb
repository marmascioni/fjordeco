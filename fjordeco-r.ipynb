{
 "cells": [
  {
   "cell_type": "markdown",
   "metadata": {},
   "source": [
    "A Simple Fjord Ecosystem Model\n",
    "==============================\n",
    "\n",
    "Following Franks, et al. (1986, Marine Biology, v91, 121–129), we wish to build a nitrate (N), phytoplankton (P), and Zooplankton (Z) model (NPZ) that also adds some basic benthic cycling: i) dead, sinking phytoplankton does not primarily remineralize in the water column and is exported to the benthos; and, ii) nutrients are exported from the Benthos. The system of equations for the system are given by:\n",
    "\n",
    "\\begin{equation}\n",
    "\\begin{split}\n",
    "\\frac{dN}{dt} & = -\\frac{V_m N}{k_s+N}P+mP+gZ+\\gamma R_m\\Lambda P(1-e^{-\\Lambda P})Z+\\beta B \\hspace{2in}(1)\\\\\n",
    "\\frac{dP}{dt} & = \\frac{V_m N}{k_s+N}P-mP-R_m\\Lambda P(1-e^{-\\Lambda P})Z-\\alpha P \\hspace{2.75in}(2)\\\\\n",
    "\\frac{dZ}{dt} & = (1-\\gamma)R_m\\Lambda P(1-e^{-\\Lambda P})Z - gZ \\hspace{3.5in}(3) \\\\\n",
    "\\frac{dB}{dt} & = \\alpha P - \\beta B \\hspace{5in}(4)\n",
    "\\end{split}\n",
    "\\end{equation}\n",
    "\n",
    "The parameters are given in the table below, and for the first portion of these experiments, we will use the Ivlev formulation ($\\alpha=1$). Note that these equations solve for concentrations; hence, N, P, and Z are in units of $\\mu$gN L$^{-1}$.\n",
    "\n",
    "\n",
    "\n",
    "| Parameter | Description                                    | Value        |\n",
    "|-----------|------------------------------------------------|--------------|\n",
    "|  $V_m$    | Maximum $P$ growth rate                        | 2 day$^{-1}$ |\n",
    "|  $k_s$    | Half-Saturation constant for $N$               | 1 $\\mu$gN L$^{-1}$ |\n",
    "|  $m$      | $P$ mortality rate remineralized in water water| 0.1 day$^{-1}$ |\n",
    "|  $\\alpha$ | $P$ mortality rate remineralized in benthos    | 0.025 day$^{-1}$ |\n",
    "|  $\\beta$  | resuspension rate of $N$ from the benthos      | 0.01 day$^{-1}$ |\n",
    "|  $\\gamma$ | Unassimilated grazing fraction from (\"messy eating\" percentage) | 0.3 |\n",
    "|  $R_m$    | Maximum $Z$ grazing rate                       | 1.5 day$^{-1}$ |\n",
    "|  $\\Lambda$| Ivlev constant                                 | L $(\\mu$gN$)^{-1}$ |\n",
    "|  $g$      | $Z$ mortality rate                             | 0.2 day$^{-1}$ |\n"
   ]
  },
  {
   "cell_type": "markdown",
   "metadata": {},
   "source": [
    "Modules\n",
    "-------"
   ]
  },
  {
   "cell_type": "code",
   "execution_count": null,
   "metadata": {},
   "outputs": [],
   "source": [
    "require(ggplot2)"
   ]
  },
  {
   "cell_type": "markdown",
   "metadata": {},
   "source": [
    "##  Parameters\n",
    "\n",
    "1. tstart: time to start model integration [days]\n",
    "1. tend: time to end model integration [days]\n",
    "1. min_N: minimum level of Nutrients [$\\mu$gN/L]\n",
    "1. min_P: minimum level of Phytoplankton [$\\mu$gN/L]\n",
    "1. min_Z: minimum level of Zooplankton [$\\mu$gN/L]\n",
    "1. min_B: minimum level of Benthos [$\\mu$gN/L]"
   ]
  },
  {
   "cell_type": "code",
   "execution_count": null,
   "metadata": {},
   "outputs": [],
   "source": [
    "tstart=0\n",
    "tend=50\n",
    "min_N=0.00001\n",
    "min_P=0.00001\n",
    "min_Z=0.00001\n",
    "min_B=0.00001"
   ]
  },
  {
   "cell_type": "markdown",
   "metadata": {},
   "source": [
    "Model Code\n",
    "----------\n",
    "\n",
    "Implement the NPZ-class model\n",
    "    \n",
    "*Input*\n",
    "\n",
    "| Name | Description | Units |\n",
    "|-----------|-------------|-------|\n",
    "| `N0` | Initial Nutrients | $\\mu$gN L$^{-1}$\n",
    "| `P0` | Initial Phytoplankton | $\\mu$gN L$^{-1}$\n",
    "| `Z0` | Initial Zooplankton | $\\mu$gN L$^{-1}$\n",
    "| `B0` | Initial Benthos | $\\mu$gN L$^{-1}$\n",
    "| `Vm` | Maximum P growth rate | days$^{-1}$\n",
    "| `ks` | Half-saturation constant | $\\mu$gN L$^{-1}$\n",
    "| `m`  | Mortality-rate for phytoplankton | days$^{-1}$\n",
    "| `alpha` | export to benthos rate | days$^{-1}$\n",
    "| `beta` | import from benthos rate | days$^{-1}$\n",
    "| `gamma` | Messy Eating  | fraction\n",
    "| `Rm` | Maximum Z grazing | days$^-1$\n",
    "| `ivlev` | Ivlev constant  | L $(\\mu$gN$)^{-1}$\n",
    "| `g` | Z mortality rate | days$^{-1}$\n",
    "\n",
    "\n",
    "*Output*\n",
    "\n",
    "| Name | Description | Units |\n",
    "|-----------|-------------|-------|\n",
    "| `times` | array of times, $t$ | days\n",
    "| `N` | array of nutrients, $N(t)$| $\\mu$gN L$^{-1}$\n",
    "| `P` | array of Phytoplankton, $P(t)$ | $\\mu$gN L$^{-1}$\n",
    "| `Z` | array of Zooplankton, $Z(t)$ | $\\mu$gN L$^{-1}$\n",
    "| `B` | array of Benthos, $B(t)$ | $\\mu$gN L$^{-1}$"
   ]
  },
  {
   "cell_type": "code",
   "execution_count": 1,
   "metadata": {},
   "outputs": [],
   "source": [
    "npz = function(N0=1.6, P0=0.3, Z0=0.1, B0=0.1,              # Initial Conditions\n",
    "        Vm=2.0, ks=1.0, m=0.1, alpha=0.025,                 # Phytoplankton Parameters\n",
    "        beta=0.01,                                          # Benthos Parameters\n",
    "        gamma=0.3, Rm=1.5, ivlev=1.0, g=0.2)                # Zooplankton Parameters\n",
    "{\n",
    "    #Create the variables to store our results\n",
    "    dt = 1/24\n",
    "    times = seq(from = tstart, to = tend+dt, by = dt)\n",
    "    Nt = length(times)\n",
    "    Z = P = N = B = rep(0, times = Nt)\n",
    "  \n",
    "    #Set our initial conditions\n",
    "    N[1] = N0; P[1] = P0; Z[1] = Z0; B[1] = B0\n",
    "  \n",
    "    for(n in 1:(Nt-1)){ \n",
    "        uptake = Vm * P[n] * N[n] / (ks + N[n])\n",
    "        pmortality = m * P[n]\n",
    "        graze = ivlev * P[n] * Rm * (1.0 - exp(-ivlev * P[n])) * Z[n]\n",
    "        zmortality = g * Z[n]\n",
    "        binput = alpha * P[n]\n",
    "        boutput = beta * B[n]\n",
    "      \n",
    "      \n",
    "        # Time-step the equations\n",
    "        N[n+1] = N[n] + dt*( -uptake + pmortality + zmortality + gamma * graze + boutput )\n",
    "        P[n+1] = P[n] + dt*( uptake - pmortality - graze - binput )\n",
    "        Z[n+1] = Z[n] + dt*( (1 - gamma) * graze - zmortality )\n",
    "        B[n+1] = B[n] + dt*( binput - boutput )\n",
    "      \n",
    "        #Apply the boundary conditions\n",
    "        N[n+1] = max(N[n+1], min_N)\n",
    "        P[n+1] = max(P[n+1], min_P)\n",
    "        Z[n+1] = max(Z[n+1], min_Z)\n",
    "        B[n+1] = max(B[n+1], min_B)\n",
    "    }  \n",
    "  \n",
    "    return(data.frame(times = times, N = N, P = P, Z = Z, B = B))\n",
    "}"
   ]
  },
  {
   "cell_type": "markdown",
   "metadata": {},
   "source": [
    "Base Run\n",
    "---------\n",
    "\n",
    "Let us begin by running our model with the base configuration to examine how it behaves."
   ]
  },
  {
   "cell_type": "code",
   "execution_count": null,
   "metadata": {},
   "outputs": [],
   "source": [
    "res <- npz()\n",
    "plot(res)"
   ]
  },
  {
   "cell_type": "markdown",
   "metadata": {},
   "source": [
    "Case Studies\n",
    "-------------\n",
    "\n",
    "Now, conduct a number of case studies by calling the model, but changing various parameters to examine the impact they have upon the system. For instance, the rates at which nutrients are exchanged with the benthos may have a profound effect on the bloom and the subsequent fixed-points. What about the impact of \"messy-eating\", initialization, or uptake rates?"
   ]
  },
  {
   "cell_type": "code",
   "execution_count": null,
   "metadata": {},
   "outputs": [],
   "source": []
  }
 ],
 "metadata": {
  "kernelspec": {
   "display_name": "R",
   "language": "R",
   "name": "ir"
  },
  "language_info": {
   "codemirror_mode": "r",
   "file_extension": ".r",
   "mimetype": "text/x-r-source",
   "name": "R",
   "pygments_lexer": "r",
   "version": "3.4.1"
  }
 },
 "nbformat": 4,
 "nbformat_minor": 2
}
